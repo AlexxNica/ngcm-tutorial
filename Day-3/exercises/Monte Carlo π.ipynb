{
 "cells": [
  {
   "cell_type": "markdown",
   "metadata": {},
   "source": [
    "# Multiplexing Exercise - Monte Carlo π\n",
    "\n",
    "A simple toy problem to get a handle on multiple engines is a Monte\n",
    "Carlo approximation of π.\n",
    "\n",
    "Let's say we have a dartboard with a round target inscribed on a square\n",
    "board. If you threw darts randomly, and they land evenly distributed on\n",
    "the square board, how many darts would you expect to hit the target?\n",
    "\n",
    "<img src=\"../figs/darts.png\"/>"
   ]
  },
  {
   "cell_type": "markdown",
   "metadata": {},
   "source": [
    "$$\n",
    "\\frac{A_c}{A_{sq}} = \\frac{\\pi r^2}{(2r)^2} = \\frac{\\pi}{4}\n",
    "$$"
   ]
  },
  {
   "cell_type": "code",
   "execution_count": 1,
   "metadata": {
    "collapsed": false
   },
   "outputs": [],
   "source": [
    "from __future__ import print_function\n",
    "\n",
    "from random import random\n",
    "from math import pi\n",
    "\n",
    "def mcpi(nsamples):\n",
    "    s = 0\n",
    "    for i in range(nsamples):\n",
    "        x = random()\n",
    "        y = random()\n",
    "        if x*x + y*y <= 1:\n",
    "            s+=1\n",
    "    return 4.*s/nsamples"
   ]
  },
  {
   "cell_type": "code",
   "execution_count": 2,
   "metadata": {
    "collapsed": false
   },
   "outputs": [
    {
     "name": "stdout",
     "output_type": "stream",
     "text": [
      "      10 4.00000 3.20000 2.80000 \n",
      "     100 3.28000 2.88000 3.12000 \n",
      "    1000 3.18800 3.06400 3.08000 \n",
      "   10000 3.18000 3.14240 3.12840 \n",
      "  100000 3.14840 3.14108 3.13688 \n",
      " 1000000 3.14188 3.14349 3.14352 \n"
     ]
    }
   ],
   "source": [
    "for n in [10, 100, 1000, 10000, 100000, 1000000]:\n",
    "    print(\"%8i\" % n, end=' ')\n",
    "    for i in range(3):\n",
    "        print(\"%.5f\" % mcpi(n), end=' ')\n",
    "    print()"
   ]
  },
  {
   "cell_type": "code",
   "execution_count": 3,
   "metadata": {
    "collapsed": false
   },
   "outputs": [
    {
     "name": "stdout",
     "output_type": "stream",
     "text": [
      "1 loops, best of 3: 415 ms per loop\n"
     ]
    }
   ],
   "source": [
    "%timeit mcpi(1000000)"
   ]
  },
  {
   "cell_type": "markdown",
   "metadata": {},
   "source": [
    "It takes a lot of samples to get a good approximation. Can you write a\n",
    "function that will use your engines to break up the work?\n",
    "\n",
    "```python\n",
    "def multi_mcpi(dview, nsamples):\n",
    "    raise NotImplementedError(\"you write this\")\n",
    "```"
   ]
  },
  {
   "cell_type": "code",
   "execution_count": 4,
   "metadata": {
    "collapsed": false
   },
   "outputs": [],
   "source": [
    "from IPython import parallel\n",
    "rc = parallel.Client()\n",
    "\n",
    "view = rc[:]"
   ]
  },
  {
   "cell_type": "code",
   "execution_count": 21,
   "metadata": {
    "collapsed": true
   },
   "outputs": [],
   "source": [
    "%load ../soln/mcpi.py"
   ]
  },
  {
   "cell_type": "code",
   "execution_count": 22,
   "metadata": {
    "collapsed": false
   },
   "outputs": [],
   "source": [
    "multi_mcpi(view, 10000000)"
   ]
  }
 ],
 "metadata": {
  "kernelspec": {
   "display_name": "Python 3",
   "language": "python",
   "name": "python3"
  },
  "language_info": {
   "codemirror_mode": {
    "name": "ipython",
    "version": 3
   },
   "file_extension": ".py",
   "mimetype": "text/x-python",
   "name": "python",
   "nbconvert_exporter": "python",
   "pygments_lexer": "ipython3",
   "version": "3.4.3"
  }
 },
 "nbformat": 4,
 "nbformat_minor": 0
}
