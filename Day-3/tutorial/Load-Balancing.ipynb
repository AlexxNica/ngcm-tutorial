{
 "cells": [
  {
   "cell_type": "markdown",
   "metadata": {},
   "source": [
    "# Load-balancing with IPython.parallel"
   ]
  },
  {
   "cell_type": "code",
   "execution_count": 1,
   "metadata": {
    "collapsed": false
   },
   "outputs": [],
   "source": [
    "import os,sys,time\n",
    "import numpy as np\n",
    "\n",
    "from IPython.core.display import display\n",
    "from IPython import parallel\n",
    "rc = parallel.Client()\n",
    "dview = rc[:]"
   ]
  },
  {
   "cell_type": "markdown",
   "metadata": {},
   "source": [
    "Create a LoadBalancedView"
   ]
  },
  {
   "cell_type": "code",
   "execution_count": 2,
   "metadata": {
    "collapsed": false
   },
   "outputs": [
    {
     "data": {
      "text/plain": [
       "<LoadBalancedView None>"
      ]
     },
     "execution_count": 2,
     "metadata": {},
     "output_type": "execute_result"
    }
   ],
   "source": [
    "lview = rc.load_balanced_view()\n",
    "lview"
   ]
  },
  {
   "cell_type": "markdown",
   "metadata": {},
   "source": [
    "LoadBalancedViews behave very much like a DirectView on a single engine:\n",
    "\n",
    "Each call to `apply()` results in a single remote computation,\n",
    "and the result (or AsyncResult) of that call is returned directly,\n",
    "rather than in a list, as in the multi-engine DirectView."
   ]
  },
  {
   "cell_type": "code",
   "execution_count": 3,
   "metadata": {
    "collapsed": true
   },
   "outputs": [],
   "source": [
    "e0 = rc[0]"
   ]
  },
  {
   "cell_type": "code",
   "execution_count": 4,
   "metadata": {
    "collapsed": false
   },
   "outputs": [
    {
     "data": {
      "text/plain": [
       "18.545900657405625"
      ]
     },
     "execution_count": 4,
     "metadata": {},
     "output_type": "execute_result"
    }
   ],
   "source": [
    "from numpy.linalg import norm\n",
    "A = np.random.random(1024)\n",
    "\n",
    "e0.apply_sync(norm, A, 2)"
   ]
  },
  {
   "cell_type": "code",
   "execution_count": 5,
   "metadata": {
    "collapsed": false
   },
   "outputs": [
    {
     "data": {
      "text/plain": [
       "18.545900657405625"
      ]
     },
     "execution_count": 5,
     "metadata": {},
     "output_type": "execute_result"
    }
   ],
   "source": [
    "lview.apply_sync(norm, A, 2)"
   ]
  },
  {
   "cell_type": "markdown",
   "metadata": {},
   "source": [
    "However, unlike the DirectView of a single engine, you are letting the IPython Scheduler decide which engine should do the work:"
   ]
  },
  {
   "cell_type": "code",
   "execution_count": 6,
   "metadata": {
    "collapsed": false
   },
   "outputs": [
    {
     "data": {
      "text/plain": [
       "8191"
      ]
     },
     "execution_count": 6,
     "metadata": {},
     "output_type": "execute_result"
    }
   ],
   "source": [
    "e0.apply_sync(os.getpid)"
   ]
  },
  {
   "cell_type": "code",
   "execution_count": 7,
   "metadata": {
    "collapsed": false
   },
   "outputs": [
    {
     "name": "stdout",
     "output_type": "stream",
     "text": [
      "task 0 ran on: 8196\n",
      "task 1 ran on: 8197\n",
      "task 2 ran on: 8198\n",
      "task 3 ran on: 8191\n",
      "task 4 ran on: 8196\n",
      "task 5 ran on: 8197\n",
      "task 6 ran on: 8198\n",
      "task 7 ran on: 8191\n"
     ]
    }
   ],
   "source": [
    "for i in range(2*len(rc.ids)):\n",
    "    pid = lview.apply_sync(os.getpid)\n",
    "    print(\"task %i ran on: %i\" % (i, pid))"
   ]
  },
  {
   "cell_type": "markdown",
   "metadata": {},
   "source": [
    "# Map\n",
    "\n",
    "The LoadBalancedView also has a load-balanced version of the builtin `map()`"
   ]
  },
  {
   "cell_type": "code",
   "execution_count": 8,
   "metadata": {
    "collapsed": false
   },
   "outputs": [
    {
     "data": {
      "text/plain": [
       "False"
      ]
     },
     "execution_count": 8,
     "metadata": {},
     "output_type": "execute_result"
    }
   ],
   "source": [
    "lview.block = True\n",
    "\n",
    "serial_result   =       map(lambda x:x**10, range(32))\n",
    "parallel_result = lview.map(lambda x:x**10, range(32))\n",
    "\n",
    "serial_result==parallel_result"
   ]
  },
  {
   "cell_type": "markdown",
   "metadata": {},
   "source": [
    "Just like `apply()`, you can use non-blocking map with `block=False` or `map_async`"
   ]
  },
  {
   "cell_type": "code",
   "execution_count": 9,
   "metadata": {
    "collapsed": false
   },
   "outputs": [
    {
     "data": {
      "text/plain": [
       "['9ca1e2ac-8d2c-4ddf-bf23-1b548e808b7b',\n",
       " '4a7d5b12-648b-4b35-8655-b8c98b39c40b',\n",
       " '953c2c13-5614-4f97-8ecd-c23eba79f1e5',\n",
       " 'befa90bb-a98a-48ab-aad9-125552f623fa',\n",
       " '5ce44ff5-c665-44ae-a4e4-23ae3a42a34c',\n",
       " 'c337a2e0-1f9b-40d4-84fc-ddc38a9bf867',\n",
       " 'b36c01ad-0518-4a1d-963b-ead3557f0403',\n",
       " 'd6b26432-681a-459c-9691-441dbb1577c0',\n",
       " 'ae98f719-13f6-4ad0-8bbf-1bff4832bc30',\n",
       " 'e24e7467-456b-42a2-a972-bff5396d4edb',\n",
       " '061a57e1-c3da-49ec-a128-c7a7fb80a240',\n",
       " '85a3e251-bcc3-479a-9cd4-2caabd1f98fa',\n",
       " '4281000b-d0d7-48d3-be8c-32fe71c7d011',\n",
       " '008d4bc2-1c90-48d8-8eb8-fcb727a839f6',\n",
       " '8f1ab6ff-f298-4a8b-bc8e-99b5bedd7efb',\n",
       " '3c25be93-66c7-4805-b219-b93b20306446',\n",
       " '517a83a6-1a88-48c2-8e93-57b136b1d4d6',\n",
       " '8b30a252-ad30-4fbf-9c7e-c14051988de2',\n",
       " '47a22b56-d1fa-4a6b-aa19-9171ad8a7786',\n",
       " '85e9fadc-8e25-4f4b-91bf-3a1a119691fc',\n",
       " '2b45a804-09db-46fa-80e3-2427ab273bbd',\n",
       " '2c17117a-6782-4878-a551-442920b8133a',\n",
       " '52539e02-8bd3-40c1-9a68-355054d040fa',\n",
       " '3fc85e8f-cee4-4451-a070-44907a5b34fc',\n",
       " 'bb0a8ead-80f2-42bb-a6f5-ce723813e94c',\n",
       " 'b615197e-3428-40ce-b0cb-dfb3ccb17ffa',\n",
       " '0d242c17-c7e8-4911-bdc2-91930d6c9b91',\n",
       " '16fc960a-11f4-4064-9820-e43e6e2e2d31',\n",
       " '1572762a-6e86-46a1-baec-20b68f96210e',\n",
       " '1fba6b40-e698-4b43-bb57-725573ebf9f8',\n",
       " 'b3b5b28c-7ec0-42c9-b244-c7a20d7e7e3b',\n",
       " '40b760d5-4754-4e4c-98f0-b7e82127e20e']"
      ]
     },
     "execution_count": 9,
     "metadata": {},
     "output_type": "execute_result"
    }
   ],
   "source": [
    "amr = lview.map_async(lambda x:x**10, range(32))\n",
    "amr.msg_ids"
   ]
  },
  {
   "cell_type": "code",
   "execution_count": 10,
   "metadata": {
    "collapsed": false
   },
   "outputs": [
    {
     "name": "stdout",
     "output_type": "stream",
     "text": [
      "\u001b[1;31mSignature: \u001b[0m\u001b[0mlview\u001b[0m\u001b[1;33m.\u001b[0m\u001b[0mmap\u001b[0m\u001b[1;33m(\u001b[0m\u001b[0mf\u001b[0m\u001b[1;33m,\u001b[0m \u001b[1;33m*\u001b[0m\u001b[0msequences\u001b[0m\u001b[1;33m,\u001b[0m \u001b[1;33m**\u001b[0m\u001b[0mkwargs\u001b[0m\u001b[1;33m)\u001b[0m\u001b[1;33m\u001b[0m\u001b[0m\n",
      "\u001b[1;31mDocstring:\u001b[0m\n",
      "``view.map(f, *sequences, block=self.block, chunksize=1, ordered=True)`` => list|AsyncMapResult\n",
      "\n",
      "Parallel version of builtin `map`, load-balanced by this View.\n",
      "\n",
      "`block`, and `chunksize` can be specified by keyword only.\n",
      "\n",
      "Each `chunksize` elements will be a separate task, and will be\n",
      "load-balanced. This lets individual elements be available for iteration\n",
      "as soon as they arrive.\n",
      "\n",
      "Parameters\n",
      "----------\n",
      "\n",
      "f : callable\n",
      "    function to be mapped\n",
      "*sequences: one or more sequences of matching length\n",
      "    the sequences to be distributed and passed to `f`\n",
      "block : bool [default self.block]\n",
      "    whether to wait for the result or not\n",
      "track : bool\n",
      "    whether to create a MessageTracker to allow the user to\n",
      "    safely edit after arrays and buffers during non-copying\n",
      "    sends.\n",
      "chunksize : int [default 1]\n",
      "    how many elements should be in each task.\n",
      "ordered : bool [default True]\n",
      "    Whether the results should be gathered as they arrive, or enforce\n",
      "    the order of submission.\n",
      "    \n",
      "    Only applies when iterating through AsyncMapResult as results arrive.\n",
      "    Has no effect when block=True.\n",
      "\n",
      "Returns\n",
      "-------\n",
      "\n",
      "if block=False\n",
      "  An :class:`~IPython.parallel.client.asyncresult.AsyncMapResult` instance.\n",
      "  An object like AsyncResult, but which reassembles the sequence of results\n",
      "  into a single list. AsyncMapResults can be iterated through before all\n",
      "  results are complete.\n",
      "else\n",
      "    A list, the result of ``map(f,*sequences)``\n",
      "\u001b[1;31mFile:      \u001b[0mDynamically generated function. No source code available.\n",
      "\u001b[1;31mType:      \u001b[0mmethod\n"
     ]
    }
   ],
   "source": [
    "lview.map??"
   ]
  },
  {
   "cell_type": "code",
   "execution_count": 11,
   "metadata": {
    "collapsed": false
   },
   "outputs": [
    {
     "data": {
      "text/plain": [
       "['68a25ebf-b153-4968-a232-6712b283db65',\n",
       " 'e020bcac-1712-4a7c-892f-081c05818188',\n",
       " '27e59f98-0b56-4b40-9b87-d577f19e5009',\n",
       " 'f16e8605-d817-400b-a725-f9125dbe7d24',\n",
       " '94ca805f-43b1-481f-8465-3256786cd977',\n",
       " '9af0ad93-7b83-4c6b-8e6f-fd6a354faed9',\n",
       " '6310cd88-36d0-4fa9-823a-4185b7e406c8',\n",
       " '6c6504fc-f5c7-495e-87ea-9480907d258a']"
      ]
     },
     "execution_count": 11,
     "metadata": {},
     "output_type": "execute_result"
    }
   ],
   "source": [
    "amr = lview.map_async(lambda x:x**10, range(32), chunksize=4)\n",
    "amr.msg_ids"
   ]
  },
  {
   "cell_type": "markdown",
   "metadata": {},
   "source": [
    "## Map results are iterable!\n",
    "\n",
    "AsyncResults with multiple results are actually iterable before their\n",
    "results arrive.\n",
    "\n",
    "This means that you can perform map/reduce operations on elements as\n",
    "they come in:"
   ]
  },
  {
   "cell_type": "code",
   "execution_count": 12,
   "metadata": {
    "collapsed": false
   },
   "outputs": [],
   "source": [
    "lview.block = False"
   ]
  },
  {
   "cell_type": "code",
   "execution_count": 13,
   "metadata": {
    "collapsed": false
   },
   "outputs": [
    {
     "name": "stdout",
     "output_type": "stream",
     "text": [
      "[0, 1, 2, 3]\n",
      "0: 0.017\n",
      "1: 1.013\n",
      "2: 2.012\n",
      "3: 3.022\n"
     ]
    }
   ],
   "source": [
    "# scatter 'id', so id=0,1,2 on engines 0,1,2\n",
    "dv = rc[:]\n",
    "dv.scatter('id', rc.ids, flatten=True)\n",
    "print(dv['id'])\n",
    "\n",
    "# create a Reference to `id`. This will be a different value on each engine\n",
    "ref = parallel.Reference('id')\n",
    "\n",
    "tic = time.time()\n",
    "ar = dv.apply(time.sleep, ref)\n",
    "for i,r in enumerate(ar):\n",
    "    print(\"%i: %.3f\"%(i, time.time()-tic))"
   ]
  },
  {
   "cell_type": "code",
   "execution_count": 14,
   "metadata": {
    "collapsed": false
   },
   "outputs": [],
   "source": [
    "amr = lview.map_async(time.sleep, [1] * 12)"
   ]
  },
  {
   "cell_type": "code",
   "execution_count": 15,
   "metadata": {
    "collapsed": false
   },
   "outputs": [
    {
     "name": "stdout",
     "output_type": "stream",
     "text": [
      "  12/12 tasks finished after    3 s\n",
      "done\n"
     ]
    }
   ],
   "source": [
    "amr.wait_interactive()"
   ]
  },
  {
   "cell_type": "code",
   "execution_count": 16,
   "metadata": {
    "collapsed": false
   },
   "outputs": [
    {
     "data": {
      "text/plain": [
       "(3.049178, 3.049178)"
      ]
     },
     "execution_count": 16,
     "metadata": {},
     "output_type": "execute_result"
    }
   ],
   "source": [
    "amr.wall_time, amr.elapsed"
   ]
  },
  {
   "cell_type": "code",
   "execution_count": 17,
   "metadata": {
    "collapsed": false
   },
   "outputs": [
    {
     "data": {
      "text/plain": [
       "12.034514000000001"
      ]
     },
     "execution_count": 17,
     "metadata": {},
     "output_type": "execute_result"
    }
   ],
   "source": [
    "amr.serial_time"
   ]
  },
  {
   "cell_type": "markdown",
   "metadata": {},
   "source": [
    "Now we submit a bunch of tasks of increasing magnitude, and\n",
    "watch where they happen, iterating through the results as they come."
   ]
  },
  {
   "cell_type": "code",
   "execution_count": 21,
   "metadata": {
    "collapsed": false
   },
   "outputs": [
    {
     "name": "stdout",
     "output_type": "stream",
     "text": [
      "task 0 on engine 2: 0.034\n",
      "task 1 on engine 1: 0.035\n",
      "task 2 on engine 0: 0.036\n",
      "task 3 on engine 3: 0.036\n",
      "task 4 on engine 2: 0.037\n",
      "task 5 on engine 1: 0.038\n",
      "task 6 on engine 0: 0.038\n",
      "task 7 on engine 3: 0.039\n",
      "task 8 on engine 2: 0.039\n",
      "task 9 on engine 1: 0.039\n",
      "task 10 on engine 0: 0.040\n",
      "task 11 on engine 3: 0.040\n",
      "task 12 on engine 2: 0.074\n",
      "task 13 on engine 1: 0.110\n",
      "task 14 on engine 0: 0.130\n",
      "task 15 on engine 3: 0.161\n",
      "task 16 on engine 2: 0.248\n",
      "task 17 on engine 1: 0.292\n",
      "task 18 on engine 0: 0.327\n",
      "task 19 on engine 3: 0.351\n",
      "task 20 on engine 2: 0.460\n",
      "task 21 on engine 1: 0.522\n",
      "task 22 on engine 0: 0.553\n",
      "task 23 on engine 3: 0.593\n",
      "task 24 on engine 2: 0.707\n",
      "task 25 on engine 1: 0.787\n",
      "task 26 on engine 0: 0.823\n",
      "task 27 on engine 3: 0.870\n",
      "task 28 on engine 2: 1.004\n",
      "task 29 on engine 1: 1.079\n",
      "task 30 on engine 0: 1.130\n",
      "task 31 on engine 3: 1.193\n",
      "task 32 on engine 2: 1.339\n",
      "task 33 on engine 1: 1.427\n",
      "task 34 on engine 0: 1.479\n",
      "task 35 on engine 3: 1.547\n",
      "task 36 on engine 2: 1.712\n",
      "task 37 on engine 1: 1.813\n",
      "task 38 on engine 0: 1.873\n",
      "task 39 on engine 3: 1.956\n",
      "task 40 on engine 2: 2.122\n",
      "task 41 on engine 1: 2.224\n",
      "task 42 on engine 0: 2.298\n",
      "task 43 on engine 3: 2.398\n",
      "task 44 on engine 2: 2.587\n",
      "task 45 on engine 1: 2.686\n",
      "task 46 on engine 0: 2.772\n",
      "task 47 on engine 3: 2.877\n",
      "task 48 on engine 2: 3.064\n",
      "task 49 on engine 1: 3.181\n",
      "task 50 on engine 0: 3.274\n",
      "task 51 on engine 3: 3.390\n",
      "task 52 on engine 2: 3.591\n",
      "task 53 on engine 1: 3.719\n",
      "task 54 on engine 0: 3.822\n",
      "task 55 on engine 3: 3.950\n",
      "task 56 on engine 2: 4.160\n",
      "task 57 on engine 1: 4.295\n",
      "task 58 on engine 0: 4.406\n",
      "task 59 on engine 3: 4.550\n",
      "task 60 on engine 2: 4.766\n",
      "task 61 on engine 1: 4.913\n",
      "task 62 on engine 0: 5.033\n",
      "task 63 on engine 3: 5.188\n",
      "task 64 on engine 2: 5.414\n",
      "task 65 on engine 1: 5.573\n",
      "task 66 on engine 0: 5.703\n",
      "task 67 on engine 3: 5.867\n",
      "task 68 on engine 2: 6.104\n",
      "task 69 on engine 1: 6.276\n",
      "task 70 on engine 0: 6.417\n",
      "task 71 on engine 3: 6.607\n",
      "task 72 on engine 2: 6.843\n",
      "task 73 on engine 1: 7.031\n",
      "task 74 on engine 0: 7.164\n",
      "task 75 on engine 3: 7.351\n",
      "task 76 on engine 2: 7.610\n",
      "task 77 on engine 1: 7.816\n",
      "task 78 on engine 0: 7.967\n",
      "task 79 on engine 3: 8.163\n",
      "task 80 on engine 2: 8.421\n",
      "task 81 on engine 1: 8.637\n",
      "task 82 on engine 0: 8.790\n",
      "task 83 on engine 3: 8.995\n",
      "task 84 on engine 2: 9.273\n",
      "task 85 on engine 1: 9.504\n",
      "task 86 on engine 0: 9.672\n",
      "task 87 on engine 3: 9.878\n",
      "task 88 on engine 2: 10.168\n",
      "task 89 on engine 1: 10.407\n",
      "task 90 on engine 0: 10.580\n",
      "task 91 on engine 3: 10.804\n",
      "task 92 on engine 2: 11.089\n",
      "task 93 on engine 1: 11.351\n",
      "task 94 on engine 0: 11.538\n",
      "task 95 on engine 3: 11.777\n",
      "task 96 on engine 2: 12.056\n",
      "task 97 on engine 1: 12.317\n",
      "task 98 on engine 0: 12.518\n",
      "task 99 on engine 3: 12.765\n"
     ]
    }
   ],
   "source": [
    "def sleep_here(t):\n",
    "    \"\"\"sleep here for a time, return where it happened\"\"\"\n",
    "    import time\n",
    "    time.sleep(t)\n",
    "    return id\n",
    "\n",
    "amr = lview.map(sleep_here, [.01*t for t in range(100)])\n",
    "tic = time.time()\n",
    "for i,r in enumerate(amr):\n",
    "    print(\"task %i on engine %i: %.3f\" % (i, r, time.time()-tic))\n"
   ]
  },
  {
   "cell_type": "code",
   "execution_count": 22,
   "metadata": {
    "collapsed": false
   },
   "outputs": [
    {
     "data": {
      "text/plain": [
       "13.051295"
      ]
     },
     "execution_count": 22,
     "metadata": {},
     "output_type": "execute_result"
    }
   ],
   "source": [
    "amr.wall_time"
   ]
  },
  {
   "cell_type": "code",
   "execution_count": 23,
   "metadata": {
    "collapsed": false
   },
   "outputs": [
    {
     "data": {
      "text/plain": [
       "49.786598000000005"
      ]
     },
     "execution_count": 23,
     "metadata": {},
     "output_type": "execute_result"
    }
   ],
   "source": [
    "amr.serial_time"
   ]
  },
  {
   "cell_type": "code",
   "execution_count": 24,
   "metadata": {
    "collapsed": false
   },
   "outputs": [
    {
     "data": {
      "text/plain": [
       "3.8146864353307475"
      ]
     },
     "execution_count": 24,
     "metadata": {},
     "output_type": "execute_result"
    }
   ],
   "source": [
    "amr.serial_time / amr.wall_time"
   ]
  },
  {
   "cell_type": "markdown",
   "metadata": {},
   "source": [
    "Unlike `DirectView.map()`, which always results in one task per engine,\n",
    "LoadBalance map defaults to one task per *item* in the sequence.  This\n",
    "can be changed by specifying the `chunksize` keyword arg."
   ]
  },
  {
   "cell_type": "code",
   "execution_count": 25,
   "metadata": {
    "collapsed": false
   },
   "outputs": [
    {
     "name": "stdout",
     "output_type": "stream",
     "text": [
      "task 0 on engine 2: 0.043\n",
      "task 1 on engine 2: 0.043\n",
      "task 2 on engine 2: 0.043\n",
      "task 3 on engine 2: 0.043\n",
      "task 4 on engine 1: 0.205\n",
      "task 5 on engine 1: 0.206\n",
      "task 6 on engine 1: 0.206\n",
      "task 7 on engine 1: 0.206\n",
      "task 8 on engine 0: 0.373\n",
      "task 9 on engine 0: 0.373\n",
      "task 10 on engine 0: 0.373\n",
      "task 11 on engine 0: 0.373\n",
      "task 12 on engine 3: 0.539\n",
      "task 13 on engine 3: 0.539\n",
      "task 14 on engine 3: 0.539\n",
      "task 15 on engine 3: 0.539\n",
      "task 16 on engine 2: 0.752\n",
      "task 17 on engine 2: 0.753\n",
      "task 18 on engine 2: 0.753\n",
      "task 19 on engine 2: 0.753\n",
      "task 20 on engine 1: 1.096\n",
      "task 21 on engine 1: 1.096\n",
      "task 22 on engine 1: 1.096\n",
      "task 23 on engine 1: 1.096\n",
      "task 24 on engine 0: 1.413\n",
      "task 25 on engine 0: 1.413\n",
      "task 26 on engine 0: 1.413\n",
      "task 27 on engine 0: 1.413\n",
      "task 28 on engine 3: 1.745\n",
      "task 29 on engine 3: 1.746\n",
      "task 30 on engine 3: 1.746\n",
      "task 31 on engine 3: 1.746\n",
      "task 32 on engine 2: 2.110\n",
      "task 33 on engine 2: 2.110\n",
      "task 34 on engine 2: 2.110\n",
      "task 35 on engine 2: 2.110\n",
      "task 36 on engine 1: 2.602\n",
      "task 37 on engine 1: 2.603\n",
      "task 38 on engine 1: 2.603\n",
      "task 39 on engine 1: 2.603\n",
      "task 40 on engine 0: 3.087\n",
      "task 41 on engine 0: 3.088\n",
      "task 42 on engine 0: 3.088\n",
      "task 43 on engine 0: 3.088\n",
      "task 44 on engine 3: 3.575\n",
      "task 45 on engine 3: 3.575\n",
      "task 46 on engine 3: 3.575\n",
      "task 47 on engine 3: 3.575\n",
      "task 48 on engine 2: 4.112\n",
      "task 49 on engine 2: 4.114\n",
      "task 50 on engine 2: 4.114\n",
      "task 51 on engine 2: 4.114\n",
      "task 52 on engine 1: 4.779\n",
      "task 53 on engine 1: 4.780\n",
      "task 54 on engine 1: 4.780\n",
      "task 55 on engine 1: 4.781\n",
      "task 56 on engine 0: 5.409\n",
      "task 57 on engine 0: 5.410\n",
      "task 58 on engine 0: 5.410\n",
      "task 59 on engine 0: 5.410\n",
      "task 60 on engine 3: 6.052\n",
      "task 61 on engine 3: 6.052\n",
      "task 62 on engine 3: 6.053\n",
      "task 63 on engine 3: 6.053\n",
      "task 64 on engine 2: 6.769\n",
      "task 65 on engine 2: 6.770\n",
      "task 66 on engine 2: 6.770\n",
      "task 67 on engine 2: 6.771\n",
      "task 68 on engine 1: 7.562\n",
      "task 69 on engine 1: 7.563\n",
      "task 70 on engine 1: 7.563\n",
      "task 71 on engine 1: 7.563\n",
      "task 72 on engine 0: 8.377\n",
      "task 73 on engine 0: 8.378\n",
      "task 74 on engine 0: 8.378\n",
      "task 75 on engine 0: 8.378\n",
      "task 76 on engine 3: 9.183\n",
      "task 77 on engine 3: 9.184\n",
      "task 78 on engine 3: 9.184\n",
      "task 79 on engine 3: 9.184\n",
      "task 80 on engine 2: 10.035\n",
      "task 81 on engine 2: 10.036\n",
      "task 82 on engine 2: 10.036\n",
      "task 83 on engine 2: 10.036\n",
      "task 84 on engine 1: 10.995\n",
      "task 85 on engine 1: 10.996\n",
      "task 86 on engine 1: 10.996\n",
      "task 87 on engine 1: 10.996\n",
      "task 88 on engine 0: 11.967\n",
      "task 89 on engine 0: 11.967\n",
      "task 90 on engine 0: 11.967\n",
      "task 91 on engine 0: 11.967\n",
      "task 92 on engine 3: 12.933\n",
      "task 93 on engine 3: 12.934\n",
      "task 94 on engine 3: 12.934\n",
      "task 95 on engine 3: 12.934\n",
      "task 96 on engine 2: 13.968\n",
      "task 97 on engine 2: 13.969\n",
      "task 98 on engine 2: 13.969\n",
      "task 99 on engine 2: 13.969\n"
     ]
    }
   ],
   "source": [
    "amr = lview.map(sleep_here, [.01*t for t in range(100)], chunksize=4)\n",
    "tic = time.time()\n",
    "for i,r in enumerate(amr):\n",
    "    print(\"task %i on engine %i: %.3f\"%(i, r, time.time()-tic))"
   ]
  },
  {
   "cell_type": "markdown",
   "metadata": {},
   "source": [
    "# Excercise\n",
    "\n",
    "## Parallelize nested loops\n",
    "\n",
    "Often we want to run a function with a variety of combinations of arguments.\n",
    "A useful skill is the ability to express a nested loop in terms of a map."
   ]
  },
  {
   "cell_type": "code",
   "execution_count": 29,
   "metadata": {
    "collapsed": false
   },
   "outputs": [
    {
     "data": {
      "text/plain": [
       "[6, 7, 8, 9, 12, 14, 16, 18, 18, 21, 24, 27]"
      ]
     },
     "execution_count": 29,
     "metadata": {},
     "output_type": "execute_result"
    }
   ],
   "source": [
    "def area(w,h):\n",
    "    return w*h\n",
    "\n",
    "\n",
    "widths = range(1,4)\n",
    "heights = range(6,10)\n",
    "\n",
    "areas = []\n",
    "for w in widths:\n",
    "    for h in heights:\n",
    "        areas.append(area(w,h))\n",
    "areas"
   ]
  },
  {
   "cell_type": "code",
   "execution_count": 26,
   "metadata": {
    "collapsed": false
   },
   "outputs": [
    {
     "data": {
      "text/html": [
       "\n",
       "<button onclick=\"$('#hint').toggle();\" label=\"hint\">\n",
       "hint\n",
       "</button>\n",
       "\n",
       "<div id=\"hint\">\n",
       "`itertools.product` and `zip` will be helpful.\n",
       "</div>\n",
       "<script type=\"text/javascript\">\n",
       "    $('#hint').hide();\n",
       "</script>\n",
       "    "
      ],
      "text/plain": [
       "<IPython.core.display.HTML object>"
      ]
     },
     "metadata": {},
     "output_type": "display_data"
    }
   ],
   "source": [
    "%run ../hints\n",
    "nesthint()"
   ]
  },
  {
   "cell_type": "code",
   "execution_count": 30,
   "metadata": {
    "collapsed": false
   },
   "outputs": [
    {
     "name": "stdout",
     "output_type": "stream",
     "text": [
      " widths (1, 1, 1, 1, 2, 2, 2, 2, 3, 3, 3, 3)\n",
      "heights (6, 7, 8, 9, 6, 7, 8, 9, 6, 7, 8, 9)\n"
     ]
    }
   ],
   "source": [
    "%load ../soln/nestedloop.py"
   ]
  },
  {
   "cell_type": "markdown",
   "metadata": {},
   "source": [
    "Validate the result:"
   ]
  },
  {
   "cell_type": "code",
   "execution_count": 31,
   "metadata": {
    "collapsed": false
   },
   "outputs": [
    {
     "data": {
      "text/plain": [
       "[6, 7, 8, 9, 12, 14, 16, 18, 18, 21, 24, 27]"
      ]
     },
     "execution_count": 31,
     "metadata": {},
     "output_type": "execute_result"
    }
   ],
   "source": [
    "p_areas = ar.get()\n",
    "p_areas"
   ]
  },
  {
   "cell_type": "code",
   "execution_count": 32,
   "metadata": {
    "collapsed": false
   },
   "outputs": [
    {
     "data": {
      "text/plain": [
       "True"
      ]
     },
     "execution_count": 32,
     "metadata": {},
     "output_type": "execute_result"
    }
   ],
   "source": [
    "areas == p_areas"
   ]
  },
  {
   "cell_type": "markdown",
   "metadata": {},
   "source": [
    "## Examples and Exercises"
   ]
  },
  {
   "cell_type": "markdown",
   "metadata": {},
   "source": [
    "- [Counting Words!](../examples/Counting%20Words.ipynb)\n",
    "- [Monte Carlo Options Pricing](../examples/MC%20Options.ipynb)"
   ]
  },
  {
   "cell_type": "markdown",
   "metadata": {},
   "source": [
    "Now that we've seen multiplexing and load-balancing, let's see how they are [used together](All%20Together.ipynb)."
   ]
  }
 ],
 "metadata": {
  "kernelspec": {
   "display_name": "Python 3",
   "language": "python",
   "name": "python3"
  },
  "language_info": {
   "codemirror_mode": {
    "name": "ipython",
    "version": 3
   },
   "file_extension": ".py",
   "mimetype": "text/x-python",
   "name": "python",
   "nbconvert_exporter": "python",
   "pygments_lexer": "ipython3",
   "version": "3.4.3"
  }
 },
 "nbformat": 4,
 "nbformat_minor": 0
}
