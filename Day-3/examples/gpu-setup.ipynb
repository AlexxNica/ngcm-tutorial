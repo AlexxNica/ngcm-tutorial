{
 "metadata": {
  "name": ""
 },
 "nbformat": 3,
 "nbformat_minor": 0,
 "worksheets": [
  {
   "cells": [
    {
     "cell_type": "markdown",
     "metadata": {},
     "source": [
      "# Setting up a cluster with gpu nodes"
     ]
    },
    {
     "cell_type": "code",
     "collapsed": false,
     "input": [
      "from IPython import parallel\n",
      "rc = parallel.Client()\n",
      "eall = rc[:]"
     ],
     "language": "python",
     "metadata": {},
     "outputs": [],
     "prompt_number": null
    },
    {
     "cell_type": "code",
     "collapsed": false,
     "input": [
      "def num_gpus():\n",
      "    import random\n",
      "    return random.randint(4, 12)"
     ],
     "language": "python",
     "metadata": {},
     "outputs": [],
     "prompt_number": null
    },
    {
     "cell_type": "code",
     "collapsed": false,
     "input": [
      "class EngineGroup(object):\n",
      "    def __init__(self, n=1):\n",
      "        import subprocess as sp\n",
      "        self.engines = [sp.Popen(['ipengine']) for i in range(n)]\n",
      "        self._stopped = False\n",
      "        \n",
      "    def stop(self):\n",
      "        import signal, time\n",
      "        \n",
      "        if self._stopped: return\n",
      "        \n",
      "        for e in self.engines:\n",
      "            e.send_signal(signal.SIGINT)\n",
      "            \n",
      "        time.sleep(1)  # wait 1s for all engines to terminate\n",
      "        \n",
      "        for e in self.engines:\n",
      "            e.terminate()\n",
      "            \n",
      "        self._stopped = True"
     ],
     "language": "python",
     "metadata": {},
     "outputs": [],
     "prompt_number": null
    },
    {
     "cell_type": "code",
     "collapsed": false,
     "input": [
      "def start_gpu():\n",
      "    pass\n",
      "\n",
      "def init_gpus():\n",
      "    ng = num_gpus()\n",
      "    gpu_engines = EngineGroup(1, ng)\n",
      "    "
     ],
     "language": "python",
     "metadata": {},
     "outputs": [],
     "prompt_number": null
    },
    {
     "cell_type": "code",
     "collapsed": false,
     "input": [
      "eall.apply_sync( num_gpus)"
     ],
     "language": "python",
     "metadata": {},
     "outputs": [],
     "prompt_number": null
    },
    {
     "cell_type": "code",
     "collapsed": false,
     "input": [],
     "language": "python",
     "metadata": {},
     "outputs": []
    }
   ],
   "metadata": {}
  }
 ]
}
