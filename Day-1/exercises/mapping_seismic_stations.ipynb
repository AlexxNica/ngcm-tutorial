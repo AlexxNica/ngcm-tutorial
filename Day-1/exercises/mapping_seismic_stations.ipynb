{
 "cells": [
  {
   "cell_type": "markdown",
   "metadata": {},
   "source": [
    "# Mapping seismic stations in the Himalayas with Numpy and Matplotlib\n",
    "## Or reading datasets with custom dtypes and plotting Earth-based data with basemap"
   ]
  },
  {
   "cell_type": "markdown",
   "metadata": {},
   "source": [
    "In this exercise, we consider loading measurement files with the format:\n",
    "\n",
    "<pre>\n",
    "# Station  Lat    Long   Elev \n",
    "BIRA\t26.4840\t87.2670\t0.0120\n",
    "BUNG\t27.8771\t85.8909\t1.1910\n",
    "etc...\n",
    "</pre>\n",
    "\n",
    "These are seismic measurement stations in the Himalaya, with the elevation indicated in km.  Data with a structure such as this is common in many disciplines, and because we have a combination of text and numerical fields, we can't directly load it into a regular numpy array.\n",
    "\n",
    "But we can use numpy's ability to [define custom data types (dtypes)](http://docs.scipy.org/doc/numpy/reference/arrays.dtypes.html) to compactly describe our data in a single array, which we can then manipulate.\n",
    "\n",
    "If you have the basemap matplotlib toolkit installed, at the end of this example we will show a real Earth map and overlay the station locations on top of that.\n",
    "\n",
    "We start by configuring pylab support and loading the required modules."
   ]
  },
  {
   "cell_type": "code",
   "execution_count": null,
   "metadata": {
    "collapsed": false
   },
   "outputs": [],
   "source": [
    "%matplotlib inline\n",
    "import numpy as np\n",
    "import matplotlib.pyplot as plt"
   ]
  },
  {
   "cell_type": "markdown",
   "metadata": {},
   "source": [
    "We want `numpy` to work with our file directly. To do this we can define a custom `dtype` as a list of four tuples. The first entry of the tuple should be a string, which you should take from the column headers in the file. The second entry of the tuple should describe the type of the measurement, which will be `'S4'` for the `Station` (a string of length 4), and `np.float32` for the other entries.\n",
    "\n",
    "Construct this list, assigning it to `dt`."
   ]
  },
  {
   "cell_type": "code",
   "execution_count": null,
   "metadata": {
    "collapsed": true
   },
   "outputs": [],
   "source": [
    "# Data descriptor to make a proper array.\n",
    "# dt = ..."
   ]
  },
  {
   "cell_type": "markdown",
   "metadata": {},
   "source": [
    "Now, we load the data using this dtype we've constructed, and view it as a `recarray` for convenient named-field access:"
   ]
  },
  {
   "cell_type": "code",
   "execution_count": null,
   "metadata": {
    "collapsed": true
   },
   "outputs": [],
   "source": [
    "import os\n",
    "data_fname = os.path.join('data', 'stations.txt')\n",
    "tab = np.loadtxt(data_fname, dt).view(np.recarray)"
   ]
  },
  {
   "cell_type": "markdown",
   "metadata": {},
   "source": [
    "You can now print out key information about the stations. In addition to the information below, print the mean latitude of the stations (which you should be able to do with one command)."
   ]
  },
  {
   "cell_type": "code",
   "execution_count": null,
   "metadata": {
    "collapsed": false
   },
   "outputs": [],
   "source": [
    "ptitle = 'Seismic stations in the Himalaya'\n",
    "print(ptitle)\n",
    "print('Stations:', tab.station)\n",
    "print('Elevations (km):', tab.elev)\n",
    "print('First station:', tab[0])"
   ]
  },
  {
   "cell_type": "markdown",
   "metadata": {},
   "source": [
    "Now we can use `matplotlib` to plot the relative locations of the stations. Create such a plot using `plt.scatter` (the $x$ \"coordinate\" should be the longitude, and the $y$ \"coordinate\" the latitude). Improve the appearance of the plot by\n",
    "\n",
    "1. Scaling the size of the points according to the elevation\n",
    "2. Coloring the points according to the elevation.\n",
    "3. Adding the \"name\" of the station as text to the plot, next to the point location."
   ]
  },
  {
   "cell_type": "code",
   "execution_count": null,
   "metadata": {
    "collapsed": false
   },
   "outputs": [],
   "source": [
    "f1, ax = plt.subplots(figsize = (8,5))\n",
    "\n",
    "# Make the size of the circles proportional to the elevation\n",
    "\n",
    "# Add scatter plot\n",
    "\n",
    "# The colorbar must be associated with the return value of scatter()\n",
    "f1.colorbar(s)\n",
    "ax.set_title(ptitle)\n",
    "\n",
    "# Now add text labels for all the stations.  \n",
    "\n",
    "# Note: when accessing single elements of the recarray, the named field\n",
    "# syntax doesn't work and we must access the fields via ['name']\n",
    "for record in tab:\n",
    "    # Code here"
   ]
  },
  {
   "cell_type": "markdown",
   "metadata": {},
   "source": [
    "To improve the plot further, we can use the `matplotlib` `basemap` toolkit. If you don't have it already installed and are using conda, then try\n",
    "\n",
    "```bash\n",
    "conda install basemap\n",
    "```\n",
    "\n",
    "Work through the code below to understand how the points are mapped onto the image and contours."
   ]
  },
  {
   "cell_type": "code",
   "execution_count": null,
   "metadata": {
    "collapsed": false
   },
   "outputs": [],
   "source": [
    "try:\n",
    "    from mpl_toolkits.basemap import Basemap\n",
    "except ImportError:\n",
    "    print(\"Basemap Not Available, no further plotting.\")\n",
    "else:\n",
    "    # Draw the stations on a real map of the Earth.\n",
    "    # Find boundaries \n",
    "    lon0 = 0.995*tab.lon.min()\n",
    "    lon1 = 1.01*tab.lon.max()\n",
    "    lat0 = 0.995*tab.lat.min()\n",
    "    lat1 = 1.01*tab.lat.max()\n",
    "    # Geographic grid to draw\n",
    "    parallels = np.linspace(lat0, lat1, 5)\n",
    "    meridians = np.linspace(lon0, lon1, 5)\n",
    "\n",
    "    # Resolution of the basemap to load ('f' is *very* expensive)\n",
    "    resolution = 'i' # intermediate resolution for map info\n",
    "\n",
    "    f2, ax2 = plt.subplots(figsize=(10,6))\n",
    "    m = Basemap(lon0, lat0, lon1, lat1, resolution=resolution, ax=ax2)\n",
    "    m.drawcountries(color=(1,1,0))  # country boundaries yellow\n",
    "    m.drawrivers(color=(0,1,1))  # rivers in cyan\n",
    "    m.bluemarble()  # NASA bluemarble image\n",
    "    m.drawparallels(parallels, labels=[1,0,0,0], fmt='%.2f')\n",
    "    m.drawmeridians(meridians, labels=[0,0,0,1], fmt='%.2f')\n",
    "    s = m.scatter(tab.lon, tab.lat, s=sizes, c=tab.elev, zorder=10, alpha=0.6)\n",
    "    f2.colorbar(s)\n",
    "    ax2.set_title(ptitle)\n",
    "    for record in tab:\n",
    "        ax2.text( record['lon']+0.05, record['lat']+0.05, record['station'], \n",
    "                weight='bold', color='yellow', zorder=10)"
   ]
  }
 ],
 "metadata": {
  "kernelspec": {
   "display_name": "Python 3",
   "language": "python",
   "name": "python3"
  },
  "language_info": {
   "codemirror_mode": {
    "name": "ipython",
    "version": 3
   },
   "file_extension": ".py",
   "mimetype": "text/x-python",
   "name": "python",
   "nbconvert_exporter": "python",
   "pygments_lexer": "ipython3",
   "version": "3.4.3"
  }
 },
 "nbformat": 4,
 "nbformat_minor": 0
}
