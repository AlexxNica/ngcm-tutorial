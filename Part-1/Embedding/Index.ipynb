{
 "cells": [
  {
   "cell_type": "markdown",
   "metadata": {},
   "source": [
    "<img src=\"../images/ipython_logo.png\">"
   ]
  },
  {
   "cell_type": "markdown",
   "metadata": {},
   "source": [
    "Back to the main [Index](../Index.ipynb)"
   ]
  },
  {
   "cell_type": "markdown",
   "metadata": {},
   "source": [
    "# Embedding IPython Into Other Applications"
   ]
  },
  {
   "cell_type": "markdown",
   "metadata": {},
   "source": [
    "The architecture of IPython is built with reusable components. These components include:\n",
    "\n",
    "* The configuration system for processing command line arguments and configuration files\n",
    "* The IPython `InteractiveShell` object that provides the core interactive features across the entire code base\n",
    "* The IPython kernel, which provides the capabilities of the `InteractiveShell` object over a ZeroMQ/JSON based message protocol to various frontends\n",
    "* The IPython frontends (Notebook, Qt Console, Console, Terminal)\n",
    "\n",
    "These components can be embedded into other applications."
   ]
  },
  {
   "cell_type": "markdown",
   "metadata": {},
   "source": [
    "## Non-notebook examples"
   ]
  },
  {
   "cell_type": "markdown",
   "metadata": {},
   "source": [
    "This directory also contains examples that are regular Python (`.py`) files.\n",
    "\n",
    "These files demonstrate how to embed the core functionality of IPython into various kinds of scenarios, from a terminal based script to a GUI application:"
   ]
  },
  {
   "cell_type": "code",
   "execution_count": 1,
   "metadata": {
    "collapsed": false
   },
   "outputs": [
    {
     "name": "stdout",
     "output_type": "stream",
     "text": [
      "\u001b[31membed_class_long.py\u001b[m\u001b[m*    inprocess_qtconsole.py  \u001b[31mipkernel_qtapp.py\u001b[m\u001b[m*\r\n",
      "embed_class_short.py    inprocess_terminal.py   \u001b[31mipkernel_wxapp.py\u001b[m\u001b[m*\r\n",
      "embed_function.py       internal_ipkernel.py\r\n"
     ]
    }
   ],
   "source": [
    "ls *py"
   ]
  }
 ],
 "metadata": {
  "kernelspec": {
   "display_name": "Python 3",
   "language": "python",
   "name": "python3"
  },
  "language_info": {
   "codemirror_mode": {
    "name": "ipython",
    "version": 3
   },
   "file_extension": ".py",
   "mimetype": "text/x-python",
   "name": "python",
   "nbconvert_exporter": "python",
   "pygments_lexer": "ipython3",
   "version": "3.4.3"
  }
 },
 "nbformat": 4,
 "nbformat_minor": 0
}
